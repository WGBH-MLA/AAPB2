{
 "cells": [
  {
   "cell_type": "code",
   "execution_count": 1,
   "id": "583b6e37",
   "metadata": {},
   "outputs": [],
   "source": [
    "from cmless import parse_cmless, parse_dir"
   ]
  },
  {
   "cell_type": "code",
   "execution_count": null,
   "id": "12c81f21",
   "metadata": {},
   "outputs": [],
   "source": [
    "# c = parse_cmless('app/views/special_collections/zoom.md')"
   ]
  },
  {
   "cell_type": "code",
   "execution_count": null,
   "id": "f17484cb",
   "metadata": {},
   "outputs": [],
   "source": [
    "collections = parse_dir('app/views/special_collections')\n",
    "# collections['zoom']\n",
    "len(collections)\n",
    "collections"
   ]
  },
  {
   "cell_type": "code",
   "execution_count": null,
   "id": "d4342242",
   "metadata": {},
   "outputs": [],
   "source": [
    "from os import listdir, path\n",
    "\n",
    "exhibits = {}\n",
    "\n",
    "# Parse all the exhibits in the app/views/exhibits directory\n",
    "for exhibit in listdir('app/views/exhibits'):\n",
    "    print(exhibit)\n",
    "    exhibit_path = path.join('app/views/exhibits', exhibit)\n",
    "    if exhibit.endswith('.md'):        \n",
    "        exhibits[exhibit] = parse_cmless(exhibit_path)\n",
    "    if path.isdir(exhibit_path):\n",
    "        exhibits[exhibit] = {}\n",
    "        for exhibit_file in listdir(exhibit_path):\n",
    "            if exhibit_file.endswith('.md'):\n",
    "                exhibits[exhibit][exhibit_file] = parse_cmless(path.join(exhibit_path, exhibit_file))"
   ]
  },
  {
   "cell_type": "code",
   "execution_count": null,
   "id": "8d63e5b1",
   "metadata": {},
   "outputs": [],
   "source": [
    "exhibits"
   ]
  },
  {
   "cell_type": "code",
   "execution_count": null,
   "id": "b8386f54",
   "metadata": {},
   "outputs": [],
   "source": [
    "w = parse_cmless('app/views/exhibits/zoom.md')"
   ]
  },
  {
   "cell_type": "code",
   "execution_count": null,
   "id": "8e714fb1",
   "metadata": {},
   "outputs": [],
   "source": [
    "len(exhibits)\n"
   ]
  },
  {
   "cell_type": "code",
   "execution_count": null,
   "id": "41f7af76",
   "metadata": {},
   "outputs": [
    {
     "data": {
      "text/plain": [
       "{'Title': 'ZOOM (1972-1978): Children’s Community and Public Television in the 1970s',\n",
       " 'Summary': '*ZOOM (1972-1978): Children’s Community and Public Television in the 1970s* was created by Leslie Paris, Associate Professor of History at the University of British Columbia in Vancouver, Canada. Her work on *ZOOM* was made possible by grants and fellowships from the Social Sciences and Humanities Research Council of Canada, the National Endowment for the Humanities, the Mellon Participatory Cataloguing Project at WGBH, the UBC Hampton Research Endowment Fund, and the UBC Public Humanities Hub. Special thanks are due to Mary Chapman, John Pitcher, and the anonymous reviewer of the exhibit essay, and to Karen Cariani, Casey Davis Kaufman, Leah Weisse, and Henry Neels, for their support in making this exhibit possible.',\n",
       " 'Authors': '- <img class=\"img-circle pull-left\" src=\"https://s3.amazonaws.com/americanarchive.org/exhibits/zoom/paris.png\"/>\\n  <a class=\"name\">Leslie Paris</a>\\n  <a class=\"title\">Associate Professor of History, The University of British Columbia</a>',\n",
       " 'Resources': '- [Check out the 50th Anniversary events and resources: Zoom 50th Anniversary Activities](https://www.wgbh.org/zoom50)\\n- [*ZOOM* Special Collection](https://americanarchive.org/special_collections/zoom)\\n- [*Vegetable Soup* Special Collection](https://americanarchive.org/special_collections/vegetable-soup)\\n- [The Neighborhood Archive: All Things Mister Rogers](http://www.neighborhoodarchive.com/)\\n- [PBS Kids](https://pbskids.org/)',\n",
       " 'Main': '### Introduction\\n\\nOn January 9, 1972, the children’s television series *ZOOM* premiered on Public Broadcasting Service (PBS) affiliates across the country. Designed for an audience between the ages of seven and twelve, *ZOOM* focused on young people making and sharing their own fun. Its distinctive claim was that viewers sent in the ideas for the jokes, plays, games and other activities that a cast of children known as ZOOMers then shared with its national viewership. The series addressed this audience as active cultural producers who had interesting talents and ideas to convey; each week, the cast [recited](https://americanarchive.org/catalog/cpb-aacip-15-27mpgfq1?start=735.93&end=829.58) WGBH’s postal address as a poem, ending in song, such that the repeated call to [“Send it to *ZOOM*”](https://americanarchive.org/catalog/cpb-aacip-15-3331znzg?start=1666.26&end=1718) likely made “02134” the best-known zip code among American children of the 1970s. As the series’ theme song asked, “Who are you? / What do you do? / How are you? / Let’s hear from you! / We need [you](https://americanarchive.org/catalog/cpb-aacip-15-89d51wbq?proxy_start_time=1670.373267)!” \\n\\nProduced at public television station WGBH in Boston, *ZOOM* was one of the most successful non-commercial children’s series of the 1970s. Over the course of six seasons, millions of American children watched *ZOOM*, and they responded to its exhortation to participate by sending in an average of 10,000 letters every week.[<sup>1</sup>](/exhibits/zoom/notes#1) Some viewers suggested themes for discussion among the ZOOMers, or passed along [tongue twisters and riddles](https://americanarchive.org/catalog/cpb-aacip-15-22v41zdg?start=147.88&end=323.12).[<sup>2</sup>](/exhibits/zoom/notes#2)  Others shared original [plays](https://americanarchive.org/catalog/cpb-aacip-15-83xsjkh9?start=935.61&end=1090.76), [poems](https://americanarchive.org/catalog/cpb-aacip-15-71ngfff7?start=1219.62&end=1349.21), [stories](https://americanarchive.org/catalog/cpb-aacip-15-17crjpmm?start=421.42&end=537.26), and [artwork](https://americanarchive.org/catalog/cpb-aacip-15-988gv19k?start=1596.19&end=1668.93). Many wrote in asking for specific *ZOOM* cards, which contained information about activities highlighted on previous episodes; these viewers generally included a [SASE](https://americanarchive.org/catalog/cpb-aacip-15-81wdc6rs?start=1299.05&end=1318.67), or self-addressed stamped envelope, in anticipation of a reply. By 1976, *ZOOM* had received over two million letters.[<sup>3</sup>](/exhibits/zoom/notes#3)\\n\\n\\n<div class=\"row\">\\n  <table class=\"exhibit-image half-image left short-image\">\\n  <caption align=\"bottom\" class=\"exhibit-caption\">Letter to ZOOM: How do you get a boy to like you?, from a viewer in Green Spring, West Virginia</caption>\\n  <tr><td><a href=\"https://s3.amazonaws.com/americanarchive.org/exhibits/zoom/How_To_Get_Boy_to_Like_You_TS_nosig_barcode385178.png\" target=\"_blank\"><img src=\"https://s3.amazonaws.com/americanarchive.org/exhibits/zoom/How_To_Get_Boy_to_Like_You_TS_nosig_barcode385178.png\" alt=\"Letter to ZOOM: How do you get a boy to like you?, from a viewer in Green Spring, West Virginia\"/></a></td></tr>\\n  </table>\\n\\n  <table class=\"exhibit-image half-image short-image\">\\n  <caption align=\"bottom\" class=\"exhibit-caption\">Letter to ZOOM about the death of a grandmother from a viewer in San Francisco, California.</caption>\\n  <tr><td><a href=\"https://s3.amazonaws.com/americanarchive.org/exhibits/zoom/Heartbreaking_Grandma_Died_MM_nosig_barcode385178.png\" target=\"_blank\"><img src=\"https://s3.amazonaws.com/americanarchive.org/exhibits/zoom/Heartbreaking_Grandma_Died_MM_nosig_barcode385178.png\" alt=\"Letter to ZOOM about the death of a grandmother from a viewer in San Francisco, California.\"/></a></td></tr>\\n  </table>\\n\\n</div>\\n\\n<div class=\"row\">\\n  <table class=\"exhibit-image half-image short-image\">\\n  <caption align=\"bottom\" class=\"exhibit-caption\">Front of ZOOM card: Make a Terrarium.</caption>\\n  <tr><td><a href=\"https://s3.amazonaws.com/americanarchive.org/exhibits/zoom/zoom_card_Terrarium_D01848.png\" target=\"_blank\"><img src=\"https://s3.amazonaws.com/americanarchive.org/exhibits/zoom/zoom_card_Terrarium_D01848.png\" alt=\"Front of ZOOM card: Make a Terrarium\"/></a></td></tr>\\n  </table>\\n\\n  <table class=\"exhibit-image half-image left short-image\">\\n  <caption align=\"bottom\" class=\"exhibit-caption\">Back of ZOOM card: Make a Terrarium.</caption>\\n  <tr><td><a href=\"https://s3.amazonaws.com/americanarchive.org/exhibits/zoom/zoom_card_Terrarium_D01848_2.png\" target=\"_blank\"><img src=\"https://s3.amazonaws.com/americanarchive.org/exhibits/zoom/zoom_card_Terrarium_D01848_2.png\" alt=\"Back of ZOOM card: Make a Terrarium\"/></a></td></tr>\\n  </table>\\n</div>\\n\\n<div class=\"row\">\\n\\n  <table class=\"exhibit-image half-image short-image\">\\n  <caption align=\"bottom\" class=\"exhibit-caption\">Front of ZOOM card: How to Cornrow</caption>\\n  <tr><td><a href=\"https://s3.amazonaws.com/americanarchive.org/exhibits/zoom/zoom_card_Cornrowing_D01848.png\" target=\"_blank\"><img src=\"https://s3.amazonaws.com/americanarchive.org/exhibits/zoom/zoom_card_Cornrowing_D01848.png\" alt=\"Front of ZOOM card: How to Cornrow\"/></a></td></tr>\\n  </table>\\n\\n  <table class=\"exhibit-image half-image left short-image\">\\n  <caption align=\"bottom\" class=\"exhibit-caption\">Back of ZOOM card: How to Cornrow</caption>\\n  <tr><td><a href=\"https://s3.amazonaws.com/americanarchive.org/exhibits/zoom/zoom_card_Cornrowing_D01848_2.png\" target=\"_blank\"><img src=\"https://s3.amazonaws.com/americanarchive.org/exhibits/zoom/zoom_card_Cornrowing_D01848_2.png\" alt=\"Back of ZOOM card: How to Cornrow\"/></a></td></tr>\\n  </table>\\n</div>\\n\\n<div class=\"row\">\\n\\n  <table class=\"exhibit-image half-image short-image\">\\n  <caption align=\"bottom\" class=\"exhibit-caption\">Front of envelope containing ZOOM mail.</caption>\\n  <tr><td><a href=\"https://s3.amazonaws.com/americanarchive.org/exhibits/zoom/Envelope_OpenFirst_front_barcode385263.png\" target=\"_blank\"><img src=\"https://s3.amazonaws.com/americanarchive.org/exhibits/zoom/Envelope_OpenFirst_front_barcode385263.png\" alt=\"Front of envelope containing ZOOM mail\"/></a></td></tr>\\n  </table>\\n\\n  <table class=\"exhibit-image half-image left short-image\">\\n  <caption align=\"bottom\" class=\"exhibit-caption\">Back of envelope containing ZOOM mail.</caption>\\n  <tr><td><a href=\"https://s3.amazonaws.com/americanarchive.org/exhibits/zoom/Envelope_OpenFirst_back_barcode385263.png\" target=\"_blank\"><img src=\"https://s3.amazonaws.com/americanarchive.org/exhibits/zoom/Envelope_OpenFirst_back_barcode385263.png\" alt=\"Back of envelope containing ZOOM mail\"/></a></td></tr>\\n  </table>\\n</div>\\n\\n<div class=\"row\">\\n  <table class=\"exhibit-image half-image short-image\">\\n  <caption align=\"bottom\" class=\"exhibit-caption\">Front of envelope containing ZOOM mail.</caption>\\n  <tr><td><a href=\"https://s3.amazonaws.com/americanarchive.org/exhibits/zoom/Envelope_Rainbow_normal_barcode385177.png\" target=\"_blank\"><img src=\"https://s3.amazonaws.com/americanarchive.org/exhibits/zoom/Envelope_Rainbow_normal_barcode385177.png\" alt=\"Front of envelope containing ZOOM mail\"/></a></td></tr>\\n  </table>\\n\\n  <table class=\"exhibit-image half-image left short-image\">\\n  <caption align=\"bottom\" class=\"exhibit-caption\">Front of envelope containing ZOOM mail.</caption>\\n  <tr><td><a href=\"https://s3.amazonaws.com/americanarchive.org/exhibits/zoom/Envelope_Zoom_front_barcode385177.png\" target=\"_blank\"><img src=\"https://s3.amazonaws.com/americanarchive.org/exhibits/zoom/Envelope_Zoom_front_barcode385177.png\" alt=\"Front of envelope containing ZOOM mail\"/></a></td></tr>\\n  </table>\\n</div>\\n\\nIn the 1960s and 1970s, advocates for educational television for children argued that the medium could be more thoughtful, creative, and informative. Better-quality television shows, these innovators contended, could teach young viewers useful skills, inculcate positive values, and prepare children for the world beyond their living rooms.[<sup>4</sup>](/exhibits/zoom/notes#4) *ZOOM* exemplified this kind of project. By watching *ZOOM*, children acquired new skills ranging from [tie-dying](https://americanarchive.org/catalog/cpb-aacip-15-26xwdm9r?start=211.56&end=374.84) fabric to [candle-making](https://americanarchive.org/catalog/cpb-aacip-15-54kkwwf2?start=259.28&end=460.75). They discovered [games](https://americanarchive.org/catalog/cpb-aacip-15-31cjt77t?start=1362.21&end=1498.28) and [tests of skill](https://americanarchive.org/catalog/cpb-aacip-15-0644j8kn?start=250.82&end=334.1) that other young fans had contributed. And they learned about a diverse range of [children](https://americanarchive.org/catalog/cpb-aacip-15-58bg7q15?start=309.23&end=610.04) [across](https://americanarchive.org/catalog/cpb-aacip-15-289gj7pp?start=315.73&end=635.05) the [country](https://americanarchive.org/catalog/cpb-aacip-15-88cfz5p7?start=256.2&end=552.55) who [appeared](https://americanarchive.org/catalog/cpb-aacip-15-171vhs7m?start=424.04&end=744.69) in [short](https://americanarchive.org/catalog/cpb-aacip-15-49t1gcnh?start=246.62&end=534.92) [documentaries](https://americanarchive.org/catalog/cpb-aacip-15-977src1z?start=961.22&end=1333.89) as [ZOOMguests](https://americanarchive.org/catalog/cpb-aacip-15-375tbddb?start=1079.93&end=1337.24). Outside of the commercial realm of children’s media, *ZOOM* also taught its young viewers new ways of connecting with other children as participants in the creative process. What children saw on their television screens affirmed their own sense of their capabilities, interests, and membership in this larger community.\\n\\nAdults were generally enchanted by *ZOOM*. Press coverage of the series was very positive, and *ZOOM* won Emmys for children’s programming in 1973, 1974, and 1977.[<sup>5</sup>](/exhibits/zoom/notes#5) Many parents also commended the series. One California mother praised its liberating models of boyhood for her teenage sons: “It’s good for boys to see other boys who are not afraid to dance, and sing, and play clapping games. Those children represent the spontaneous creative, intelligent people we want our children to become.” A Minnesota mother explained that she found the show’s lack of rudeness refreshing: “I am a Christian and I am fussy about TV shows. I’m thankful you don’t use such words as ‘Shut up’ and the other slang words.”[<sup>6</sup>](/exhibits/zoom/notes#6) As many other parents contended, *ZOOM* offered a refuge from the commercialization of children’s media.\\n\\nFor the children who were its central audience, *ZOOM* felt like a community of friends. *ZOOM*’s call for viewer-produced [content](https://americanarchive.org/catalog/cpb-aacip-15-65h9wf89?start=1017.05&end=1034.14) encouraged young people to see themselves as competent. Anyone could try the [crafts](https://americanarchive.org/catalog/cpb-aacip-15-25k992j7?start=1146.23&end=1253.64) and [games](https://americanarchive.org/catalog/cpb-aacip-15-72p5j5fn?start=145.19&end=338.69) that ZOOMers demonstrated; anyone could send *ZOOM* a [joke](https://americanarchive.org/catalog/cpb-aacip-15-66vx1043?start=140.26&end=324.11) or a [riddle](https://americanarchive.org/catalog/cpb-aacip-15-977src1z?start=1334.85&end=1491.37). Although the weekly [song and dance](https://americanarchive.org/catalog/cpb-aacip-15-3331znzg?start=1503.61&end=1665.61) performances were choreographed, they were obviously performed by amateurs. The inclusion of ZOOMers and ZOOMguests of varied races, religions, regions, and interests further encouraged many young viewers to feel represented by children like themselves. \\n\\nOver the course of six seasons, the series effectively served as a national cultural clearinghouse for information and activities of interest to American children. Many children who watched *ZOOM* in the 1970s later described the series as an important cultural benchmark of their youth. The series inspired a second-generation PBS remake, also produced at WGBH (1999-2005), whose audience included some of the sons and daughters of its original fans. Now, instead of sending letters through the U.S. postal service, children could connect with the show via electronic “zmail.” More recently, in the first months of the COVID-19 pandemic, former ZOOMers from both series contributed ideas for creative stay-at-home activities in the spirit of the original television program.\\n\\n\\n<div class=\"row\">\\n  <table class=\"exhibit-image half-image left short-image\">\\n  <caption align=\"bottom\" class=\"exhibit-caption\">Example of ZMail submission about learning Spanish, Series II, 2000.</caption>\\n  <tr><td><a href=\"https://s3.amazonaws.com/americanarchive.org/exhibits/zoom/ZMail_4_Seasons_Spanish_EMail_Jessica_2000_barcode385180.png\" target=\"_blank\"><img src=\"https://s3.amazonaws.com/americanarchive.org/exhibits/zoom/ZMail_4_Seasons_Spanish_EMail_Jessica_2000_barcode385180.png\" alt=\"Example of ZMail submission about learning Spanish.\"/></a></td></tr>\\n  </table>\\n\\n  <table class=\"exhibit-image half-image short-image\">\\n  <caption align=\"bottom\" class=\"exhibit-caption\">Example of ZMail submission about Ubbi Dubbi, Series II, 2000.</caption>\\n  <tr><td><a href=\"https://s3.amazonaws.com/americanarchive.org/exhibits/zoom/ZMail_Ubbi_Dubbi_Translator_EMail_Talia_2000_barcode385180.png\" target=\"_blank\"><img src=\"https://s3.amazonaws.com/americanarchive.org/exhibits/zoom/ZMail_Ubbi_Dubbi_Translator_EMail_Talia_2000_barcode385180.png\" alt=\"Example of ZMail submission about Ubbi Dubbi.\"/></a></td></tr>\\n  </table>\\n</div>\\n\\n#### Next: [Innovations in Children’s Public Television Programming](/exhibits/zoom/innovations-childrens-television)',\n",
       " 'Cover': '<img title=\"Cover Image\" src=\"https://s3.amazonaws.com/americanarchive.org/exhibits/zoom/Zoom_mainimage.png\" alt=\"Cast of ZOOM, 1972.\"/>',\n",
       " 'Records': '- [](/catalog/cpb-aacip-15-00ns1zsw)\\n- [](/catalog/cpb-aacip-15-00ns20dk)\\n- [](/catalog/cpb-aacip-15-02c86f36)\\n- [](/catalog/cpb-aacip-15-02q57bc4)\\n- [](/catalog/cpb-aacip-15-03qv9zv2)\\n- [](/catalog/cpb-aacip-15-053ffkvd)\\n- [](/catalog/cpb-aacip-15-0644j8kn)\\n- [](/catalog/cpb-aacip-15-085hqm3p)\\n- [](/catalog/cpb-aacip-15-09w0w2mz)\\n- [](/catalog/cpb-aacip-15-11xd2d9b)\\n- [](/catalog/cpb-aacip-15-13zs7r3w)\\n- [](/catalog/cpb-aacip-15-13zs7rd3)\\n- [](/catalog/cpb-aacip-15-150gbf7x)\\n- [](/catalog/cpb-aacip-15-15bcc97p)\\n- [](/catalog/cpb-aacip-15-1615f3xt)\\n- [](/catalog/cpb-aacip-15-1615f4xg)\\n- [](/catalog/cpb-aacip-15-16c2g0jn)\\n- [](/catalog/cpb-aacip-15-171vhs7m)\\n- [](/catalog/cpb-aacip-15-171vhscc)\\n- [](/catalog/cpb-aacip-15-17crjpmm)\\n- [](/catalog/cpb-aacip-15-17qnkk4c)\\n- [](/catalog/cpb-aacip-15-18dfnb9h)\\n- [](/catalog/cpb-aacip-15-22v41z1w)\\n- [](/catalog/cpb-aacip-15-22v41z71)\\n- [](/catalog/cpb-aacip-15-22v41zdg)\\n- [](/catalog/cpb-aacip-15-23612tvq)\\n- [](/catalog/cpb-aacip-15-23hx3q9j)\\n- [](/catalog/cpb-aacip-15-25k99271)\\n- [](/catalog/cpb-aacip-15-25k992b3)\\n- [](/catalog/cpb-aacip-15-25k992gv)\\n- [](/catalog/cpb-aacip-15-25k992j7)\\n- [](/catalog/cpb-aacip-15-26xwdm9r)\\n- [](/catalog/cpb-aacip-15-27mpgfjk)\\n- [](/catalog/cpb-aacip-15-27mpgfq1)\\n- [](/catalog/cpb-aacip-15-289gj77q)\\n- [](/catalog/cpb-aacip-15-289gj7pp)\\n- [](/catalog/cpb-aacip-15-29p2ns25)\\n- [](/catalog/cpb-aacip-15-29p2nsh4)\\n- [](/catalog/cpb-aacip-15-30bvqjp1)\\n- [](/catalog/cpb-aacip-15-31cjt6zn)\\n- [](/catalog/cpb-aacip-15-31cjt77t)\\n- [](/catalog/cpb-aacip-15-32d7wx36)\\n- [](/catalog/cpb-aacip-15-33dz0kqr)\\n- [](/catalog/cpb-aacip-15-34sj45s9)\\n- [](/catalog/cpb-aacip-15-354f5187)\\n- [](/catalog/cpb-aacip-15-375tbddb)\\n- [](/catalog/cpb-aacip-15-37hqc8z4)\\n- [](/catalog/cpb-aacip-15-39k3jmhd)\\n- [](/catalog/cpb-aacip-15-40ksn9zw)\\n- [](/catalog/cpb-aacip-15-439zwft5)\\n- [](/catalog/cpb-aacip-15-440rz7ww)\\n- [](/catalog/cpb-aacip-15-44bp042b)\\n- [](/catalog/cpb-aacip-15-46qz6c1r)\\n- [](/catalog/cpb-aacip-15-48ffbtr2)\\n- [](/catalog/cpb-aacip-15-49t1gcnh)\\n- [](/catalog/cpb-aacip-15-52w3rdhh)\\n- [](/catalog/cpb-aacip-15-5370s88z)\\n- [](/catalog/cpb-aacip-15-53jwt7hz)\\n- [](/catalog/cpb-aacip-15-54kkwwf2)\\n- [](/catalog/cpb-aacip-15-55z61f38)\\n- [](/catalog/cpb-aacip-15-56zw433t)\\n- [](/catalog/cpb-aacip-15-56zw43fq)\\n- [](/catalog/cpb-aacip-15-58bg7q15)\\n- [](/catalog/cpb-aacip-15-58pc8k39)\\n- [](/catalog/cpb-aacip-15-60cvf203)\\n- [](/catalog/cpb-aacip-15-60qrfx2m)\\n- [](/catalog/cpb-aacip-15-61rfjmkq)\\n- [](/catalog/cpb-aacip-15-64thtmd2)\\n- [](/catalog/cpb-aacip-15-65h9wdxr)\\n- [](/catalog/cpb-aacip-15-65h9wf89)\\n- [](/catalog/cpb-aacip-15-65v6x9mz)\\n- [](/catalog/cpb-aacip-15-676t1vd8)\\n- [](/catalog/cpb-aacip-15-67jq2sdb)\\n- [](/catalog/cpb-aacip-15-687h4k13)\\n- [](/catalog/cpb-aacip-15-708w9wq7)\\n- [](/catalog/cpb-aacip-15-70zpcpsf)\\n- [](/catalog/cpb-aacip-15-719kdm05)\\n- [](/catalog/cpb-aacip-15-71ngfff7)\\n- [](/catalog/cpb-aacip-15-72p5j5fn)\\n- [](/catalog/cpb-aacip-15-741rnq50)\\n- [](/catalog/cpb-aacip-15-752frd3c)\\n- [](/catalog/cpb-aacip-15-79v15vck)\\n- [](/catalog/cpb-aacip-15-79v15vkq)\\n- [](/catalog/cpb-aacip-15-79v15vmd)\\n- [](/catalog/cpb-aacip-15-80ht7n8m)\\n- [](/catalog/cpb-aacip-15-81wdc6rs)\\n- [](/catalog/cpb-aacip-15-81wdc708)\\n- [](/catalog/cpb-aacip-15-82x3fv35)\\n- [](/catalog/cpb-aacip-15-8380gt5s)\\n- [](/catalog/cpb-aacip-15-83kwhp7c)\\n- [](/catalog/cpb-aacip-15-83xsjkh9)\\n- [](/catalog/cpb-aacip-15-848pkg5b)\\n- [](/catalog/cpb-aacip-15-87pnwczd)\\n- [](/catalog/cpb-aacip-15-88cfz5p7)\\n- [](/catalog/cpb-aacip-15-89280zh3)\\n- [](/catalog/cpb-aacip-15-89d51wbq)\\n- [](/catalog/cpb-aacip-15-90dv4h7v)\\n- [](/catalog/cpb-aacip-15-90rr5dc1)\\n- [](/catalog/cpb-aacip-15-92g79vp2)\\n- [](/catalog/cpb-aacip-15-92t4brwm)\\n- [](/catalog/cpb-aacip-15-30bvqkcg)\\n- [](/catalog/cpb-aacip-15-92t4brz0)\\n- [](/catalog/cpb-aacip-15-94vhj4bj)\\n- [](/catalog/cpb-aacip-15-95w6msmj)\\n- [](/catalog/cpb-aacip-15-96k0pjnx)\\n- [](/catalog/cpb-aacip-15-977src1z)\\n- [](/catalog/cpb-aacip-15-988gv19k)\\n- [](/catalog/cpb-aacip-15-988gv1b8)\\n- [](/catalog/cpb-aacip-15-98z8wtbg)\\n- [](/catalog/cpb-aacip-15-99n2zm1m)\\n- [](/catalog/cpb-aacip-15-31cjt6k2)\\n- [](/catalog/cpb-aacip-15-3331znzg)\\n- [](/catalog/cpb-aacip-15-3331zpbq)\\n- [](/catalog/cpb-aacip-15-407wmdtq)\\n- [](/catalog/cpb-aacip-15-40ksnb39)\\n- [](/catalog/cpb-aacip-15-547pvzxn)\\n- [](/catalog/cpb-aacip-15-623bkh5c)\\n- [](/catalog/cpb-aacip-15-66vx1043)\\n- [](/catalog/cpb-aacip-15-81wdc6g8)\\n- [](/catalog/cpb-aacip-15-98z8wt0k)\\n- [](/catalog/cpb-aacip-15-009w121x)\\n- [](/catalog/cpb-aacip-15-222r49g78s)\\n- [](/catalog/cpb-aacip-15-736m03xz5z)\\n- [](/catalog/cpb-aacip-15-4302vj7k)\\n- [](/catalog/cpb-aacip-15-89r22rvt)',\n",
       " 'Page': 1}"
      ]
     },
     "execution_count": 51,
     "metadata": {},
     "output_type": "execute_result"
    }
   ],
   "source": [
    "import re\n",
    "\n",
    "def cmless2(file):\n",
    "    with open(file, 'r') as f:\n",
    "        md = f.read()\n",
    "    title_pattern = r\"^#\\s+(.*)\"\n",
    "    section_pattern = r\"^##\\s+(.*)\"\n",
    "    titles = re.split(title_pattern, md)\n",
    "    assert titles[0].strip() == '', \"There should be nothing before the first title\"\n",
    "    assert len(titles) == 3, \"There should be exactly 3 parts to this match\"\n",
    "    title = titles[1].strip()\n",
    "    body = titles[2].strip()\n",
    "\n",
    "    \n",
    "    sections = re.split(section_pattern, body, flags=re.MULTILINE)\n",
    "    try:\n",
    "        # If the first section is a number, it means we have a page number\n",
    "        page = int(sections[0].strip())\n",
    "    except ValueError:\n",
    "        # Nevermind\n",
    "        page = None\n",
    "        assert sections[0].strip() == '', \"First section should be empty if there's no page number\"\n",
    "            \n",
    "    # Remove the empty first section\n",
    "    sections = sections[1:]\n",
    "\n",
    "    # Turn the remaining sections into a dictionary\n",
    "    sections = {sections[i].strip(): sections[i + 1].strip() for i in range(0, len(sections), 2)}\n",
    "\n",
    "\n",
    "    sections = {k: v for k, v in sections.items() if k and v}\n",
    "\n",
    "    result = {\n",
    "        'Title': title,\n",
    "        # 'body': body,\n",
    "        **sections,\n",
    "    }\n",
    "    if page is not None:\n",
    "        result['Page'] = page\n",
    "    return result\n",
    "\n",
    "cmless2('app/views/exhibits/zoom.md')"
   ]
  },
  {
   "cell_type": "code",
   "execution_count": 17,
   "id": "8df41c72",
   "metadata": {},
   "outputs": [
    {
     "name": "stdout",
     "output_type": "stream",
     "text": [
      "Section 0: # The Politics of/within Educational Television in the 1960s\n",
      "\n",
      "2\n",
      "\n",
      "\n",
      "---\n",
      "Section 1: Summary\n",
      "\n",
      "\n",
      "---\n",
      "Section 2: Extended\n",
      "[*Regional Report: The John Birch Society,*](/catalog/cpb-aacip_512-ft8df6m068) telecast by NET in 1965, elicited strong, mixed reactions from NET’s affiliated stations and viewers of the telecast. Affiliates were split both over the content of editor Edwin Bayley’s closing highly critical comments about the John Birch Society (JBS) and of the wisdom of including such editorials in public affairs telecasts. They also provided differing feedback on how WGBH journalist Jim Fleming conducted himself in his interview with Robert Welch, founder of the JBS, which constituted the final 40 minutes or so of the program.[<sup>5</sup>](/exhibits/conservatism/notes#5)\n",
      "\n",
      "While NET did receive letters from viewers that praised how the program gave voice to conservative views, by and large viewer mail tended toward the critical. Earl Patrick of Pompton Plains, New Jersey, contrasted an NET program on Harlem with the *Regional Report* episode, asking for a comparison between the crime rate of \"your friends in Harlem\" and that of members of the JBS, and suggesting \"If you are anxious to shed tears for someone, I suggest you shed them for the very decent people who shoulder their responsibilities, support their families, maintain clean houses, clean children, and clean communities, pay taxes to support those who will not meet their obligations.\" Rosemary Cooper of Elmhurst, New York referred to the program as \"treasonous\" and ended her letter by hoping that \"someday soon you will change your left wing ideology and join with the patriots.\" A. Marie Hannon of Chicago telegraphed her disapproval of the program in her letter’s salutation, \"HATE MONGERS.\"[<sup>6</sup>](/exhibits/conservatism/notes#6)\n",
      "\n",
      "The responses not only underline disapproval of this particular show but signal how NET was perceived by some to favor liberal or left perspectives. The Nixon White House famously would attack public television for an alleged liberal political bias in the late 1960s and 1970s and would try to defund it as a result. Yet the view that noncommercial television programmed to the left took hold in the 1960s in the years before the passage of the Public Broadcasting Act of 1967.[<sup>7</sup>](/exhibits/conservatism/notes#7) It was not just Richard Nixon, with his well-established antipathy for the press, who saw in public television a mouthpiece for liberal and left perspectives.\n",
      "\n",
      "Such an accusation would not have been foreseeable, or perhaps, imaginable when NET formed in the early 1950s. In 1952, the Ford Foundation established the Educational Television and Radio Center (ETRC) to circulate programming to educational television stations. In April 1952, the Federal Communications Commission (FCC) had reserved 242 television channels for noncommercial, educational purposes. Ford had provided the primary financial support to the Joint Committee on Educational Television (JCET), which for the previous two years had led the fight to secure television channels for educational purposes. Over the next decade, the JCET would continue to advocate in Washington for educational television and would work with local communities to apply for broadcast licenses and establish broadcast stations, while the ETRC would provide programming to stations in this emerging sector.\n",
      "\n",
      "The sector that developed over the next two decades was heterogeneous. Educational television stations differed in their communities of service (local, statewide, regional) and loci of control (state educational television commissions, universities, school systems, state boards of education, and nonprofit organizations). They also varied in how they saw their missions as noncommercial, educational stations. Some prioritized instructional television, seeking to use their stations to ameliorate educational inequalities in the schools; others saw the promise of educational television in adult education, and the use a domestic technology to enlighten and elucidate; still others sought to use noncommercial television to offer high quality programming that took chances that commercial television stations would not. While some stations saw in educational television an opportunity to provoke and challenge, to raise questions about the status quo, others believed it an instrument to promote patriotism, confidence in existing institutions, traditional understandings of American mores, and an American exceptionalism.[<sup>8</sup>](/exhibits/conservatism/notes#8)\n",
      "\n",
      "The ETRC was originally helmed by Harry Newburn, president of the University of Oregon. Located in Ann Arbor, Michigan, the ETRC circulated programming produced by outside entities (local stations, independent producers, university production centers, commercial TV sources). Newburn stressed the *educational*, and devalued the *television*, of educational television and the programming circulated during his tenure was widely regarded as substantively dull, technically naïve, and aesthetically unsophisticated.[<sup>9</sup>](/exhibits/conservatism/notes#9)\n",
      "\n",
      "John White, who had been vice president of Western Reserve University and general manager of WQED in Pittsburgh, took over in 1958 after Newburn’s contract expired. White changed the name of the organization to the National Educational Television and Radio Center (NETRC), moved its headquarters to New York, and assimilated the work of other Ford-supported educational television groups into its remit, such as providing technical support to local stations. White prioritized improving the quality of the programming distributed to local stations, achieved in part through the NETRC’s participation with and soliciting of programming from international sources.\n",
      "\n",
      "In 1963, Ford redirected its financial support to the Center, dedicating its funds to the production and circulation of high-quality programming. As a result, the NETRC reorganized, eliminating many of the services it had provided in the previous five years, removing support of educational radio from its mission, and reconceptualizing how it would approach its obligations to provide content to its local affiliates. White renamed the organization National Educational Television (NET).\n",
      "\n",
      "As Carolyn Brooks has so persuasively demonstrated, White envisioned NET as a \"fourth\" network, one bound not by an interconnected array of geographically dispersed stations as the commercial networks were, but by a shared philosophy as to the sociopolitical role of noncommercial television.[<sup>10</sup>](/exhibits/conservatism/notes#10)  Especially with NET’s public affairs programming, White sought to offer an alternative to the commercial networks by covering topics and perspectives that they avoided, and provoking audiences to think critically, and perhaps differently, about the world they inhabited. In the 1960s, NET telecast programs, for example, that articulated benefits of psychedelic drugs, voiced radical perspectives on racial discrimination, found value in Castro’s leadership in Cuba, and viewed North Vietnam through a sympathetic lens.[<sup>11</sup>](/exhibits/conservatism/notes#11)\n",
      "\n",
      "Overall, White aimed for noncommercial television to be an \"influence\" on the national stage by engaging with the exigent issues of the day in a manner that commercial networks would not. As he stated in a 1966 address to affiliates, \"We must not avoid controversy. We must not fail to be strong and firm in support of free men and free discussion of divergent views.\"[<sup>12</sup>](/exhibits/conservatism/notes#12) This view of educational television’s function, however, was not one that all local stations embraced.\n",
      "\n",
      "As early as 1964, tensions between NET and its affiliates were evident, the latter feeling as though NET was \"no longer interested\" in them.[<sup>13</sup>](/exhibits/conservatism/notes#13) Throughout the 1960s, stations complained about both the \"liberal\" orientation of the programming delivered by NET and its unresponsiveness to station demands. Stations in a range of states, frequently run by state commissions funded by state legislatures, were reluctant to air NET programs for fear of incurring the ire of their audiences as well as local political leaders. As NET sought to expand the parameters of what could be said and which perspectives could be circulated on the airwaves, a number of local stations saw in NET programming not a boon to the marketplace of ideas but a threat to the values of their own communities and to the vision of educational television that underlay their own existence. In addition to the substantive complaints about programming content, affiliates also objected to NET’s over-reliance on coastal stations as production partners, its poor communication with local stations when producing programs in their communities, and the short lead time they were given to preview programs before broadcast.[<sup>14</sup>](/exhibits/conservatism/notes#14)\n",
      "\n",
      "NET’s words and actions, in addition to its programming, may have reasonably led stations to suspect that its leadership did not see affiliates as equal partners. NET had a policy that affiliates must take programs whole and could not edit them to fit the needs of their local communities. As White put it in a memo justifying this policy, \"we have a responsibility not *just* to stations but to the American people, just as stations by their very channel grant have a responsibility to the *public* as well as to their *institutions*.\"[<sup>15</sup>](/exhibits/conservatism/notes#15) Accordingly, White positioned NET as a servant of the public interest and uncooperative stations as impediments to the organization's ability to fulfill its civic obligations.\n",
      "\n",
      "Station dissatisfaction arguably contributed to the demise of NET, displaced by the creation of the Public Broadcasting Service (PBS) in 1969. The following year, NET would merge with NY educational television station WNDT, renamed WNET; WNET would be an important producing station for PBS, but it would be PBS that would make determinations about what would circulate to affiliated stations. PBS had been created by the Corporation for Public Broadcasting (CPB), itself a creation of the 1967 Public Broadcasting Act. The Public Broadcasting Act was modeled on a report by the Carnegie Commission on Educational Television, *A Public Action*, based on two years of research and interviews with noncommercial broadcasting practitioners, which offered a blueprint to sustain noncommercial television financially (via federal financing) and a rebrand of the sector (renamed *public*, rather than *educational*, television). Importantly, the Carnegie Commission’s vision for the future of noncommercial television included a reduced role for NET. It both called for additional production centers across the nation and underlined that public television was to be a system of decentralized local stations. It implicitly rejected White’s \"fourth network\" vision and the centralized control he sought over the mission of the educational television sector.\n",
      "\n",
      "The programs in this exhibit thus circulated not only in the context of the increasing visibility of conservatism on the political scene, but against the backdrop of this particular moment in the history of public television. They perhaps sought to balance out the range of shows that addressed the cultural and political transformations sought by the left and to address station complaints over what seemed like NET’s bias toward left-leaning perspectives. But they also were in keeping with NET’s commitment to addressing exigent topics, providing a platform to ideas sidelined by commercial stations, and offering programs that would provoke viewers to think and see differently.\n",
      "\n",
      "\n",
      "### Sources and Suggested Reading:\n",
      "\n",
      "- Robert K. Avery and Robert Pepper, \"An Institutional History of Public Broadcasting,\" *Journal\n",
      "\tof Communications* 30.3 (1980): 126-38.\n",
      "\n",
      "- Robert K. Avery and Robert Pepper, *The Politics of Interconnection: A History of Public\n",
      "\tTelevision at the National Level* (Washington, DC: National Association of Educational\n",
      "\tBroadcasters, 1979).\n",
      "\n",
      "- Carolyn N. Brooks, \"Documentary Programming and the Emergence of the National Educational\n",
      "\tTelevision Center as a Network, 1958-1972\" (PhD diss., University of\n",
      "\tWisconsin-Madison, 1994).\n",
      "\n",
      "- James Day, *The Vanishing Vision: The Inside Story of Public Television* (Berkeley: University of\n",
      "\tCalifornia Press, 1995).\n",
      "\n",
      "- Ralph Engelman, *Public Radio and Television in America: A Political History* (Thousand Oaks:\n",
      "\tSage Publications, 1996).\n",
      "\n",
      "- James Ledbetter, *Made Possible By . . .: The Death of Public Broadcasting in the United States*\n",
      "\t(New York: Verso, 1998).\n",
      "\n",
      "- Laurie Ouellette, *Viewers Like You?: How Public TV Failed the People* (New York: Columbia\n",
      "\tUniversity Press, 2002).\n",
      "\n",
      "- Allison Perlman, *Public Interests: Media Advocacy and Struggles over U.S. Television* (New\n",
      "\tBrunswick: Rutgers University Press, 2016).\n",
      "\n",
      "- David M. Stone, *Nixon and the Politics of Public Television* (New York: Garland Publishing,\n",
      " Inc., 1985).\n",
      "\n",
      "- John Witherspoon, Roselle Kovitz, Robert K. Avery, and Alan G. Stavitsky, *A History of Public\n",
      "\tBroadcasting* (Washington, DC: Current, 2000).\n",
      "\n",
      "- Donald N. Wood, \"The First Fifteen Years of the ‘Fourth Network,’\" *Journal of Broadcasting*\n",
      "\t13.2 (1969): 131-144.\n",
      "\n",
      "#### Next: [Defining Conservatism](/exhibits/conservatism/defining-conservatism)\n",
      "\n",
      "\n",
      "---\n",
      "Section 3: Main\n",
      "\n",
      "\n",
      "---\n",
      "Section 4: Cover\n",
      "\n",
      "<table class=\"exhibit-image\">\n",
      "  <caption align=\"bottom\" class=\"exhibit-caption\">NET logo, circa 1965.</caption>\n",
      "  <tr><td><img src=\"https://s3.amazonaws.com/americanarchive.org/exhibits/conservatism/NET.png\" alt=\"NET logo, circa 1965\"/></td></tr>\n",
      "</table>\n",
      "\n",
      "\n",
      "---\n",
      "Section 5: Gallery\n",
      "\n",
      "  - <a class=\"type\">image</a>\n",
      "    <img alt=\"NET logo, circa 1965.\" src=\"https://s3.amazonaws.com/americanarchive.org/exhibits/conservatism/NET.png\">\n",
      "    <a class=\"caption-text\">NET logo, circa 1965.</a>\n",
      "\t\t<a class=\"credit-link\">National Educational Television and Radio Center</a>\n",
      "\n",
      "- <a class=\"type\">image</a>\n",
      "    <img alt=\"Robert Welch, founder of the John Birch Society, gave an extensive interview to WGBH journalist Jim Fleming as part of the Regional Report on the society.\" src=\"https://s3.amazonaws.com/americanarchive.org/exhibits/conservatism/welchinterview.png\">\n",
      "    <a class=\"caption-text\">Robert Welch, founder of the John Birch Society, gave an extensive interview to WGBH journalist Jim Fleming as part of the Regional Report on the society.</a>\n",
      "    <a class=\"credit-link\" href=\"https://americanarchive.org/catalog/cpb-aacip_512-ft8df6m068\">Regional Report; John Birch Society</a>\n",
      "\n",
      "\n",
      "---\n",
      "Section 6: Records\n",
      "\n",
      "- [](/catalog/cpb-aacip_512-5717m04t96)\n",
      "- [](/catalog/cpb-aacip_512-7659c6sv00)\n",
      "- [](/catalog/cpb-aacip_512-vh5cc0vx37)\n",
      "- [](/catalog/cpb-aacip_512-b27pn8z80v)\n",
      "- [](/catalog/cpb-aacip_512-gf0ms3kz1k)\n",
      "- [](/catalog/cpb-aacip_151-sn00z71m54)\n",
      "- [](/catalog/cpb-aacip_512-154dn40k91)\n",
      "- [](/catalog/cpb-aacip_512-r785h7cx44)\n",
      "- [](/catalog/cpb-aacip_15-58bg7psp)\n",
      "- [](/catalog/cpb-aacip_75-35gb5qv3)\n",
      "- [](/catalog/cpb-aacip_512-vm42r3q34b)\n",
      "- [](/catalog/cpb-aacip_15-03qvbh5c)\n",
      "- [](/catalog/cpb-aacip_512-445h990541)\n",
      "- [](/catalog/cpb-aacip_512-jh3cz33457)\n",
      "- [](/catalog/cpb-aacip_512-tq5r786p84)\n",
      "- [](/catalog/cpb-aacip_516-w66930q11b)\n",
      "- [](/catalog/cpb-aacip_15-94hmh6vt)\n",
      "- [](/catalog/cpb-aacip_512-j96057dt9d)\n",
      "- [](/catalog/cpb-aacip_512-ft8df6m068)\n",
      "- [](/catalog/cpb-aacip_512-8s4jm24805)\n",
      "- [](/catalog/cpb-aacip_512-6t0gt5g86d)\n",
      "- [](/catalog/cpb-aacip_512-zk55d8pn04)\n",
      "- [](/catalog/cpb-aacip_512-j96057ds7h)\n",
      "- [](/catalog/cpb-aacip_15-27zkhbbv)\n",
      "\n",
      "---\n"
     ]
    }
   ],
   "source": [
    "\n",
    "with open(\"app/views/exhibits/conservatism/politics-net.md\", \"r\") as f:\n",
    "    text = f.read()\n",
    "sections = re.split(r'(?m)^## ', text)\n",
    "\n",
    "for i, section in enumerate(sections):\n",
    "    print(f\"Section {i}: {section}\\n---\")"
   ]
  },
  {
   "cell_type": "code",
   "execution_count": 20,
   "id": "6c10c4e9",
   "metadata": {},
   "outputs": [
    {
     "data": {
      "text/plain": [
       "['',\n",
       " 'The Politics of/within Educational Television in the 1960s',\n",
       " '\\n\\n2\\n\\n## Summary\\n\\n## Extended\\n[*Regional Report: The John Birch Society,*](/catalog/cpb-aacip_512-ft8df6m068) telecast by NET in 1965, elicited strong, mixed reactions from NET’s affiliated stations and viewers of the telecast. Affiliates were split both over the content of editor Edwin Bayley’s closing highly critical comments about the John Birch Society (JBS) and of the wisdom of including such editorials in public affairs telecasts. They also provided differing feedback on how WGBH journalist Jim Fleming conducted himself in his interview with Robert Welch, founder of the JBS, which constituted the final 40 minutes or so of the program.[<sup>5</sup>](/exhibits/conservatism/notes#5)\\n\\nWhile NET did receive letters from viewers that praised how the program gave voice to conservative views, by and large viewer mail tended toward the critical. Earl Patrick of Pompton Plains, New Jersey, contrasted an NET program on Harlem with the *Regional Report* episode, asking for a comparison between the crime rate of \"your friends in Harlem\" and that of members of the JBS, and suggesting \"If you are anxious to shed tears for someone, I suggest you shed them for the very decent people who shoulder their responsibilities, support their families, maintain clean houses, clean children, and clean communities, pay taxes to support those who will not meet their obligations.\" Rosemary Cooper of Elmhurst, New York referred to the program as \"treasonous\" and ended her letter by hoping that \"someday soon you will change your left wing ideology and join with the patriots.\" A. Marie Hannon of Chicago telegraphed her disapproval of the program in her letter’s salutation, \"HATE MONGERS.\"[<sup>6</sup>](/exhibits/conservatism/notes#6)\\n\\nThe responses not only underline disapproval of this particular show but signal how NET was perceived by some to favor liberal or left perspectives. The Nixon White House famously would attack public television for an alleged liberal political bias in the late 1960s and 1970s and would try to defund it as a result. Yet the view that noncommercial television programmed to the left took hold in the 1960s in the years before the passage of the Public Broadcasting Act of 1967.[<sup>7</sup>](/exhibits/conservatism/notes#7) It was not just Richard Nixon, with his well-established antipathy for the press, who saw in public television a mouthpiece for liberal and left perspectives.\\n\\nSuch an accusation would not have been foreseeable, or perhaps, imaginable when NET formed in the early 1950s. In 1952, the Ford Foundation established the Educational Television and Radio Center (ETRC) to circulate programming to educational television stations. In April 1952, the Federal Communications Commission (FCC) had reserved 242 television channels for noncommercial, educational purposes. Ford had provided the primary financial support to the Joint Committee on Educational Television (JCET), which for the previous two years had led the fight to secure television channels for educational purposes. Over the next decade, the JCET would continue to advocate in Washington for educational television and would work with local communities to apply for broadcast licenses and establish broadcast stations, while the ETRC would provide programming to stations in this emerging sector.\\n\\nThe sector that developed over the next two decades was heterogeneous. Educational television stations differed in their communities of service (local, statewide, regional) and loci of control (state educational television commissions, universities, school systems, state boards of education, and nonprofit organizations). They also varied in how they saw their missions as noncommercial, educational stations. Some prioritized instructional television, seeking to use their stations to ameliorate educational inequalities in the schools; others saw the promise of educational television in adult education, and the use a domestic technology to enlighten and elucidate; still others sought to use noncommercial television to offer high quality programming that took chances that commercial television stations would not. While some stations saw in educational television an opportunity to provoke and challenge, to raise questions about the status quo, others believed it an instrument to promote patriotism, confidence in existing institutions, traditional understandings of American mores, and an American exceptionalism.[<sup>8</sup>](/exhibits/conservatism/notes#8)\\n\\nThe ETRC was originally helmed by Harry Newburn, president of the University of Oregon. Located in Ann Arbor, Michigan, the ETRC circulated programming produced by outside entities (local stations, independent producers, university production centers, commercial TV sources). Newburn stressed the *educational*, and devalued the *television*, of educational television and the programming circulated during his tenure was widely regarded as substantively dull, technically naïve, and aesthetically unsophisticated.[<sup>9</sup>](/exhibits/conservatism/notes#9)\\n\\nJohn White, who had been vice president of Western Reserve University and general manager of WQED in Pittsburgh, took over in 1958 after Newburn’s contract expired. White changed the name of the organization to the National Educational Television and Radio Center (NETRC), moved its headquarters to New York, and assimilated the work of other Ford-supported educational television groups into its remit, such as providing technical support to local stations. White prioritized improving the quality of the programming distributed to local stations, achieved in part through the NETRC’s participation with and soliciting of programming from international sources.\\n\\nIn 1963, Ford redirected its financial support to the Center, dedicating its funds to the production and circulation of high-quality programming. As a result, the NETRC reorganized, eliminating many of the services it had provided in the previous five years, removing support of educational radio from its mission, and reconceptualizing how it would approach its obligations to provide content to its local affiliates. White renamed the organization National Educational Television (NET).\\n\\nAs Carolyn Brooks has so persuasively demonstrated, White envisioned NET as a \"fourth\" network, one bound not by an interconnected array of geographically dispersed stations as the commercial networks were, but by a shared philosophy as to the sociopolitical role of noncommercial television.[<sup>10</sup>](/exhibits/conservatism/notes#10)  Especially with NET’s public affairs programming, White sought to offer an alternative to the commercial networks by covering topics and perspectives that they avoided, and provoking audiences to think critically, and perhaps differently, about the world they inhabited. In the 1960s, NET telecast programs, for example, that articulated benefits of psychedelic drugs, voiced radical perspectives on racial discrimination, found value in Castro’s leadership in Cuba, and viewed North Vietnam through a sympathetic lens.[<sup>11</sup>](/exhibits/conservatism/notes#11)\\n\\nOverall, White aimed for noncommercial television to be an \"influence\" on the national stage by engaging with the exigent issues of the day in a manner that commercial networks would not. As he stated in a 1966 address to affiliates, \"We must not avoid controversy. We must not fail to be strong and firm in support of free men and free discussion of divergent views.\"[<sup>12</sup>](/exhibits/conservatism/notes#12) This view of educational television’s function, however, was not one that all local stations embraced.\\n\\nAs early as 1964, tensions between NET and its affiliates were evident, the latter feeling as though NET was \"no longer interested\" in them.[<sup>13</sup>](/exhibits/conservatism/notes#13) Throughout the 1960s, stations complained about both the \"liberal\" orientation of the programming delivered by NET and its unresponsiveness to station demands. Stations in a range of states, frequently run by state commissions funded by state legislatures, were reluctant to air NET programs for fear of incurring the ire of their audiences as well as local political leaders. As NET sought to expand the parameters of what could be said and which perspectives could be circulated on the airwaves, a number of local stations saw in NET programming not a boon to the marketplace of ideas but a threat to the values of their own communities and to the vision of educational television that underlay their own existence. In addition to the substantive complaints about programming content, affiliates also objected to NET’s over-reliance on coastal stations as production partners, its poor communication with local stations when producing programs in their communities, and the short lead time they were given to preview programs before broadcast.[<sup>14</sup>](/exhibits/conservatism/notes#14)\\n\\nNET’s words and actions, in addition to its programming, may have reasonably led stations to suspect that its leadership did not see affiliates as equal partners. NET had a policy that affiliates must take programs whole and could not edit them to fit the needs of their local communities. As White put it in a memo justifying this policy, \"we have a responsibility not *just* to stations but to the American people, just as stations by their very channel grant have a responsibility to the *public* as well as to their *institutions*.\"[<sup>15</sup>](/exhibits/conservatism/notes#15) Accordingly, White positioned NET as a servant of the public interest and uncooperative stations as impediments to the organization\\'s ability to fulfill its civic obligations.\\n\\nStation dissatisfaction arguably contributed to the demise of NET, displaced by the creation of the Public Broadcasting Service (PBS) in 1969. The following year, NET would merge with NY educational television station WNDT, renamed WNET; WNET would be an important producing station for PBS, but it would be PBS that would make determinations about what would circulate to affiliated stations. PBS had been created by the Corporation for Public Broadcasting (CPB), itself a creation of the 1967 Public Broadcasting Act. The Public Broadcasting Act was modeled on a report by the Carnegie Commission on Educational Television, *A Public Action*, based on two years of research and interviews with noncommercial broadcasting practitioners, which offered a blueprint to sustain noncommercial television financially (via federal financing) and a rebrand of the sector (renamed *public*, rather than *educational*, television). Importantly, the Carnegie Commission’s vision for the future of noncommercial television included a reduced role for NET. It both called for additional production centers across the nation and underlined that public television was to be a system of decentralized local stations. It implicitly rejected White’s \"fourth network\" vision and the centralized control he sought over the mission of the educational television sector.\\n\\nThe programs in this exhibit thus circulated not only in the context of the increasing visibility of conservatism on the political scene, but against the backdrop of this particular moment in the history of public television. They perhaps sought to balance out the range of shows that addressed the cultural and political transformations sought by the left and to address station complaints over what seemed like NET’s bias toward left-leaning perspectives. But they also were in keeping with NET’s commitment to addressing exigent topics, providing a platform to ideas sidelined by commercial stations, and offering programs that would provoke viewers to think and see differently.\\n\\n\\n### Sources and Suggested Reading:\\n\\n- Robert K. Avery and Robert Pepper, \"An Institutional History of Public Broadcasting,\" *Journal\\n\\tof Communications* 30.3 (1980): 126-38.\\n\\n- Robert K. Avery and Robert Pepper, *The Politics of Interconnection: A History of Public\\n\\tTelevision at the National Level* (Washington, DC: National Association of Educational\\n\\tBroadcasters, 1979).\\n\\n- Carolyn N. Brooks, \"Documentary Programming and the Emergence of the National Educational\\n\\tTelevision Center as a Network, 1958-1972\" (PhD diss., University of\\n\\tWisconsin-Madison, 1994).\\n\\n- James Day, *The Vanishing Vision: The Inside Story of Public Television* (Berkeley: University of\\n\\tCalifornia Press, 1995).\\n\\n- Ralph Engelman, *Public Radio and Television in America: A Political History* (Thousand Oaks:\\n\\tSage Publications, 1996).\\n\\n- James Ledbetter, *Made Possible By . . .: The Death of Public Broadcasting in the United States*\\n\\t(New York: Verso, 1998).\\n\\n- Laurie Ouellette, *Viewers Like You?: How Public TV Failed the People* (New York: Columbia\\n\\tUniversity Press, 2002).\\n\\n- Allison Perlman, *Public Interests: Media Advocacy and Struggles over U.S. Television* (New\\n\\tBrunswick: Rutgers University Press, 2016).\\n\\n- David M. Stone, *Nixon and the Politics of Public Television* (New York: Garland Publishing,\\n Inc., 1985).\\n\\n- John Witherspoon, Roselle Kovitz, Robert K. Avery, and Alan G. Stavitsky, *A History of Public\\n\\tBroadcasting* (Washington, DC: Current, 2000).\\n\\n- Donald N. Wood, \"The First Fifteen Years of the ‘Fourth Network,’\" *Journal of Broadcasting*\\n\\t13.2 (1969): 131-144.\\n\\n#### Next: [Defining Conservatism](/exhibits/conservatism/defining-conservatism)\\n\\n## Main\\n\\n## Cover\\n\\n<table class=\"exhibit-image\">\\n  <caption align=\"bottom\" class=\"exhibit-caption\">NET logo, circa 1965.</caption>\\n  <tr><td><img src=\"https://s3.amazonaws.com/americanarchive.org/exhibits/conservatism/NET.png\" alt=\"NET logo, circa 1965\"/></td></tr>\\n</table>\\n\\n## Gallery\\n\\n  - <a class=\"type\">image</a>\\n    <img alt=\"NET logo, circa 1965.\" src=\"https://s3.amazonaws.com/americanarchive.org/exhibits/conservatism/NET.png\">\\n    <a class=\"caption-text\">NET logo, circa 1965.</a>\\n\\t\\t<a class=\"credit-link\">National Educational Television and Radio Center</a>\\n\\n- <a class=\"type\">image</a>\\n    <img alt=\"Robert Welch, founder of the John Birch Society, gave an extensive interview to WGBH journalist Jim Fleming as part of the Regional Report on the society.\" src=\"https://s3.amazonaws.com/americanarchive.org/exhibits/conservatism/welchinterview.png\">\\n    <a class=\"caption-text\">Robert Welch, founder of the John Birch Society, gave an extensive interview to WGBH journalist Jim Fleming as part of the Regional Report on the society.</a>\\n    <a class=\"credit-link\" href=\"https://americanarchive.org/catalog/cpb-aacip_512-ft8df6m068\">Regional Report; John Birch Society</a>\\n\\n## Records\\n\\n- [](/catalog/cpb-aacip_512-5717m04t96)\\n- [](/catalog/cpb-aacip_512-7659c6sv00)\\n- [](/catalog/cpb-aacip_512-vh5cc0vx37)\\n- [](/catalog/cpb-aacip_512-b27pn8z80v)\\n- [](/catalog/cpb-aacip_512-gf0ms3kz1k)\\n- [](/catalog/cpb-aacip_151-sn00z71m54)\\n- [](/catalog/cpb-aacip_512-154dn40k91)\\n- [](/catalog/cpb-aacip_512-r785h7cx44)\\n- [](/catalog/cpb-aacip_15-58bg7psp)\\n- [](/catalog/cpb-aacip_75-35gb5qv3)\\n- [](/catalog/cpb-aacip_512-vm42r3q34b)\\n- [](/catalog/cpb-aacip_15-03qvbh5c)\\n- [](/catalog/cpb-aacip_512-445h990541)\\n- [](/catalog/cpb-aacip_512-jh3cz33457)\\n- [](/catalog/cpb-aacip_512-tq5r786p84)\\n- [](/catalog/cpb-aacip_516-w66930q11b)\\n- [](/catalog/cpb-aacip_15-94hmh6vt)\\n- [](/catalog/cpb-aacip_512-j96057dt9d)\\n- [](/catalog/cpb-aacip_512-ft8df6m068)\\n- [](/catalog/cpb-aacip_512-8s4jm24805)\\n- [](/catalog/cpb-aacip_512-6t0gt5g86d)\\n- [](/catalog/cpb-aacip_512-zk55d8pn04)\\n- [](/catalog/cpb-aacip_512-j96057ds7h)\\n- [](/catalog/cpb-aacip_15-27zkhbbv)\\n']"
      ]
     },
     "execution_count": 20,
     "metadata": {},
     "output_type": "execute_result"
    }
   ],
   "source": [
    "re.split(r'(?m)^#\\s+(.+$)', text)"
   ]
  }
 ],
 "metadata": {
  "kernelspec": {
   "display_name": ".venv",
   "language": "python",
   "name": "python3"
  },
  "language_info": {
   "codemirror_mode": {
    "name": "ipython",
    "version": 3
   },
   "file_extension": ".py",
   "mimetype": "text/x-python",
   "name": "python",
   "nbconvert_exporter": "python",
   "pygments_lexer": "ipython3",
   "version": "3.12.3"
  }
 },
 "nbformat": 4,
 "nbformat_minor": 5
}
