{
 "cells": [
  {
   "cell_type": "code",
   "execution_count": null,
   "id": "583b6e37",
   "metadata": {},
   "outputs": [],
   "source": [
    "from cmless.parse import parse_cmless, parse_dir\n",
    "from rich import print"
   ]
  },
  {
   "cell_type": "code",
   "execution_count": null,
   "id": "12c81f21",
   "metadata": {},
   "outputs": [],
   "source": [
    "# c = parse_cmless('app/views/special_collections/zoom.md')"
   ]
  },
  {
   "cell_type": "code",
   "execution_count": null,
   "id": "f17484cb",
   "metadata": {},
   "outputs": [],
   "source": [
    "collections = parse_dir('app/views/special_collections')\n",
    "# collections['zoom']\n",
    "len(collections)\n",
    "print(collections)"
   ]
  },
  {
   "cell_type": "code",
   "execution_count": null,
   "id": "47d83671",
   "metadata": {},
   "outputs": [],
   "source": [
    "from cmless.models import Collection"
   ]
  },
  {
   "cell_type": "code",
   "execution_count": null,
   "id": "f49e8ab8",
   "metadata": {},
   "outputs": [],
   "source": [
    "c = Collection(**collections['zoom'])"
   ]
  },
  {
   "cell_type": "code",
   "execution_count": null,
   "id": "d4342242",
   "metadata": {},
   "outputs": [],
   "source": [
    "from os import listdir, path\n",
    "\n",
    "exhibits = {}\n",
    "\n",
    "# Parse all the exhibits in the app/views/exhibits directory\n",
    "for exhibit in listdir('app/views/exhibits'):\n",
    "    print(exhibit)\n",
    "    exhibit_path = path.join('app/views/exhibits', exhibit)\n",
    "    if exhibit.endswith('.md'):        \n",
    "        exhibits[exhibit] = parse_cmless(exhibit_path)\n",
    "    if path.isdir(exhibit_path):\n",
    "        exhibits[exhibit] = {}\n",
    "        for exhibit_file in listdir(exhibit_path):\n",
    "            if exhibit_file.endswith('.md'):\n",
    "                exhibits[exhibit][exhibit_file] = parse_cmless(path.join(exhibit_path, exhibit_file))"
   ]
  },
  {
   "cell_type": "code",
   "execution_count": null,
   "id": "8d63e5b1",
   "metadata": {},
   "outputs": [],
   "source": [
    "exhibits"
   ]
  },
  {
   "cell_type": "code",
   "execution_count": null,
   "id": "b8386f54",
   "metadata": {},
   "outputs": [],
   "source": [
    "w = parse_cmless('app/views/exhibits/zoom.md')"
   ]
  },
  {
   "cell_type": "code",
   "execution_count": null,
   "id": "8e714fb1",
   "metadata": {},
   "outputs": [],
   "source": [
    "len(exhibits)\n"
   ]
  },
  {
   "cell_type": "code",
   "execution_count": null,
   "id": "41f7af76",
   "metadata": {},
   "outputs": [],
   "source": [
    "import re\n",
    "\n",
    "def cmless2(file):\n",
    "    with open(file, 'r') as f:\n",
    "        md = f.read()\n",
    "    title_pattern = r\"^#\\s+(.*)\"\n",
    "    section_pattern = r\"^##\\s+(.*)\"\n",
    "    titles = re.split(title_pattern, md)\n",
    "    assert titles[0].strip() == '', \"There should be nothing before the first title\"\n",
    "    assert len(titles) == 3, \"There should be exactly 3 parts to this match\"\n",
    "    title = titles[1].strip()\n",
    "    body = titles[2].strip()\n",
    "\n",
    "    \n",
    "    sections = re.split(section_pattern, body, flags=re.MULTILINE)\n",
    "    try:\n",
    "        # If the first section is a number, it means we have a page number\n",
    "        page = int(sections[0].strip())\n",
    "    except ValueError:\n",
    "        # Nevermind\n",
    "        page = None\n",
    "        assert sections[0].strip() == '', \"First section should be empty if there's no page number\"\n",
    "            \n",
    "    # Remove the empty first section\n",
    "    sections = sections[1:]\n",
    "\n",
    "    # Turn the remaining sections into a dictionary\n",
    "    sections = {sections[i].strip(): sections[i + 1].strip() for i in range(0, len(sections), 2)}\n",
    "\n",
    "\n",
    "    sections = {k: v for k, v in sections.items() if k and v}\n",
    "\n",
    "    result = {\n",
    "        'Title': title,\n",
    "        # 'body': body,\n",
    "        **sections,\n",
    "    }\n",
    "    if page is not None:\n",
    "        result['Page'] = page\n",
    "    return result\n",
    "\n",
    "cmless2('app/views/exhibits/zoom.md')"
   ]
  },
  {
   "cell_type": "code",
   "execution_count": null,
   "id": "8df41c72",
   "metadata": {},
   "outputs": [],
   "source": [
    "\n",
    "with open(\"app/views/exhibits/conservatism/politics-net.md\", \"r\") as f:\n",
    "    text = f.read()\n",
    "sections = re.split(r'(?m)^## ', text)\n",
    "\n",
    "for i, section in enumerate(sections):\n",
    "    print(f\"Section {i}: {section}\\n---\")"
   ]
  },
  {
   "cell_type": "code",
   "execution_count": null,
   "id": "6c10c4e9",
   "metadata": {},
   "outputs": [],
   "source": [
    "re.split(r'(?m)^#\\s+(.+$)', text)"
   ]
  }
 ],
 "metadata": {
  "kernelspec": {
   "display_name": "AAPB2 (3.13.4)",
   "language": "python",
   "name": "python3"
  },
  "language_info": {
   "codemirror_mode": {
    "name": "ipython",
    "version": 3
   },
   "file_extension": ".py",
   "mimetype": "text/x-python",
   "name": "python",
   "nbconvert_exporter": "python",
   "pygments_lexer": "ipython3",
   "version": "3.13.4"
  }
 },
 "nbformat": 4,
 "nbformat_minor": 5
}
