{
 "cells": [
  {
   "cell_type": "code",
   "execution_count": 1,
   "id": "583b6e37",
   "metadata": {},
   "outputs": [],
   "source": [
    "from cmless.parse import parse_cmless, parse_dir\n",
    "from rich import print"
   ]
  },
  {
   "cell_type": "code",
   "execution_count": 2,
   "id": "12c81f21",
   "metadata": {},
   "outputs": [
    {
     "data": {
      "text/plain": [
       "{'Title': 'Rock & Roll',\n",
       " 'Slug': 'rock-and-roll',\n",
       " 'Thumbnail': '![Rock & Roll](https://s3.amazonaws.com/americanarchive.org/special-collections/rock.jpg \"Rock & Roll\")',\n",
       " 'Summary': 'The <em>Rock & Roll</em> Special Collection features 166 raw interviews from the 10-part series of the same name, also known in the UK as <em>Dancing in the Street: a Rock and Roll History</em>. The series, which focused on the progression of rock music from its beginnings in the 1950s to its contemporary forms in the 1990s, was co-produced by WGBH and the BBC. The series used interviews with artists and industry insiders to examine the influence and growth of musical styles like R&B, jazz, soul, heavy metal, glam, reggae, country, and rap on the rock and roll scene. The series, narrated by Emmy- and Golden Globe-nominated actor Liev Schreiber, was the recipient of a Peabody Award. Interviews in the collection include conversations with musicians, record producers, recording engineers, and consultants, including Bill Medley, one-half of the Righteous Brothers; Cynthia Robinson, a trumpeter and vocalist with the group Sly and the Family Stone; Sam Phillips, founder of Sun Records, who first recorded Elvis Presley and Johnny Cash and helped break racial barriers in the music industry; Teddy Pendergrass, lead singer of the group Harold Melvin & the Blue Notes and famed solo artist; Tom Dowd, a recording engineer credited with innovating multitrack recording; and Maxine Powell, an etiquette instructor who consulted with Motown performers like Marvin Gaye, the Jackson 5, and The Supremes. Subjects in the interviews include music, race, segregation, recording technology, dance, and US/UK musical exchanges.',\n",
       " 'Background': 'The <em>Rock & Roll</em> series is a co-production of WGBH and the BBC, originally aired in 1995. Materials were contributed to the American Archive of Public Broadcasting (AAPB) in 2014.',\n",
       " 'Featured': '[![Bill Medley](https://s3.amazonaws.com/americanarchive.org/special-collections/cpb-aacip_15-pv6b27q289.jpg)](/catalog/cpb-aacip_15-np1wd3q679) [![Cynthia Robinson](https://s3.amazonaws.com/americanarchive.org/special-collections/cpb-aacip_15-2v2c824d54.jpg)](/catalog/cpb-aacip_15-2v2c824d54) [![Tom Dowd](https://s3.amazonaws.com/americanarchive.org/special-collections/cpb-aacip_15-fb4wh2dg9p.jpg)](/catalog/cpb-aacip_15-fb4wh2dg9p) [![Sam Phillips](https://s3.amazonaws.com/americanarchive.org/special-collections/cpb-aacip_15-862b853n84.jpg)](/catalog/cpb-aacip_15-862b853n84) [![Teddy Pendergrass](https://s3.amazonaws.com/americanarchive.org/special-collections/cpb-aacip_15-rn3028pq9s.jpg)](/catalog/cpb-aacip_15-rn3028pq9s) [![Maxine Powell](https://s3.amazonaws.com/americanarchive.org/special-collections/cpb-aacip_15-xk84j0bc9g.jpg)](/catalog/cpb-aacip_15-xk84j0bc9g)',\n",
       " 'Resources': '- [Rock & Roll Special Collection, Open Vault](http://openvault.wgbh.org/collections/rock_roll/interviews) - [Rock & Roll Hall of Fame, Library and Archives](https://library.rockhall.com/archival_collections) - [Rock and Roll, Smithsonian Institution](https://www.si.edu/spotlight/rock-and-roll) - [Chicago Jazz Archive, The University of Chicago](https://www.lib.uchicago.edu/collex/collections/chicago-jazz-archive/)',\n",
       " 'Funders': None,\n",
       " 'Help': 'Records are described at an item level and all records contain brief descriptions and subject terms. Search by keyword or individual, or browse all episodes by clicking “Explore the Collection” below the search box.',\n",
       " 'Terms': None,\n",
       " 'Timeline': None,\n",
       " 'Sort': 'title+asc'}"
      ]
     },
     "execution_count": 2,
     "metadata": {},
     "output_type": "execute_result"
    }
   ],
   "source": [
    "from cmless.models import Collection, Exhibit\n",
    "# c = parse_cmless('app/views/special_collections/zoom.md')\n",
    "# parse_cmless('app/views/special_collections/radio-kdna.md')\n",
    "parse_cmless('app/views/special_collections/rock-and-roll.md')\n",
    "# c = Collection(Title='Test', Slug='asdf', Summary='asdf')"
   ]
  },
  {
   "cell_type": "code",
   "execution_count": 3,
   "id": "f17484cb",
   "metadata": {},
   "outputs": [
    {
     "data": {
      "text/plain": [
       "96"
      ]
     },
     "execution_count": 3,
     "metadata": {},
     "output_type": "execute_result"
    }
   ],
   "source": [
    "collections = parse_dir('app/views/special_collections')\n",
    "len(collections)\n",
    "# print(collections[-1])"
   ]
  },
  {
   "cell_type": "code",
   "execution_count": 4,
   "id": "d4342242",
   "metadata": {},
   "outputs": [],
   "source": [
    "from os import listdir, path\n",
    "\n",
    "exhibits = {}\n",
    "\n",
    "# Parse all the exhibits in the app/views/exhibits directory\n",
    "for exhibit in listdir('app/views/exhibits'):\n",
    "    # print(exhibit)\n",
    "    exhibit_path = path.join('app/views/exhibits', exhibit)\n",
    "    slug = exhibit.replace('.md', '')\n",
    "    if exhibit.endswith('.md'):\n",
    "        exhibit = parse_cmless(exhibit_path)\n",
    "        exhibit = Exhibit(**exhibit)\n",
    "        exhibits[slug] = exhibit\n",
    "    if path.isdir(exhibit_path):\n",
    "        exhibits[slug] = {}\n",
    "        for exhibit_file in listdir(exhibit_path):\n",
    "            if exhibit_file.endswith('.md'):\n",
    "                exhibit = parse_cmless(path.join(exhibit_path, exhibit_file))\n",
    "                page_slug = exhibit_file.replace('.md', '')\n",
    "                exhibit = Exhibit(**exhibit,)\n",
    "                exhibits[slug][page_slug] = exhibit"
   ]
  },
  {
   "cell_type": "code",
   "execution_count": 6,
   "id": "8d63e5b1",
   "metadata": {},
   "outputs": [
    {
     "data": {
      "text/plain": [
       "25"
      ]
     },
     "execution_count": 6,
     "metadata": {},
     "output_type": "execute_result"
    }
   ],
   "source": [
    "# print(exhibits)\n",
    "len(exhibits)\n",
    "# print(exhibits['peabody'])"
   ]
  },
  {
   "cell_type": "code",
   "execution_count": null,
   "id": "b8386f54",
   "metadata": {},
   "outputs": [],
   "source": [
    "parse_cmless('app/views/exhibits/zoom.md')"
   ]
  },
  {
   "cell_type": "code",
   "execution_count": null,
   "id": "41f7af76",
   "metadata": {},
   "outputs": [],
   "source": [
    "import re\n",
    "\n",
    "def cmless2(file):\n",
    "    with open(file, 'r') as f:\n",
    "        md = f.read()\n",
    "    title_pattern = r\"^#\\s+(.*)\"\n",
    "    section_pattern = r\"^##\\s+(.*)\"\n",
    "    titles = re.split(title_pattern, md)\n",
    "    assert titles[0].strip() == '', \"There should be nothing before the first title\"\n",
    "    assert len(titles) == 3, \"There should be exactly 3 parts to this match\"\n",
    "    title = titles[1].strip()\n",
    "    body = titles[2].strip()\n",
    "\n",
    "    \n",
    "    sections = re.split(section_pattern, body, flags=re.MULTILINE)\n",
    "    try:\n",
    "        # If the first section is a number, it means we have a page number\n",
    "        page = int(sections[0].strip())\n",
    "    except ValueError:\n",
    "        # Nevermind\n",
    "        page = None\n",
    "        assert sections[0].strip() == '', \"First section should be empty if there's no page number\"\n",
    "            \n",
    "    # Remove the empty first section\n",
    "    sections = sections[1:]\n",
    "\n",
    "    # Turn the remaining sections into a dictionary\n",
    "    sections = {sections[i].strip(): sections[i + 1].strip() for i in range(0, len(sections), 2)}\n",
    "\n",
    "\n",
    "    sections = {k: v for k, v in sections.items() if k and v}\n",
    "\n",
    "    result = {\n",
    "        'Title': title,\n",
    "        # 'body': body,\n",
    "        **sections,\n",
    "    }\n",
    "    if page is not None:\n",
    "        result['Page'] = page\n",
    "    return result\n",
    "\n",
    "cmless2('app/views/exhibits/zoom.md')"
   ]
  }
 ],
 "metadata": {
  "kernelspec": {
   "display_name": "AAPB2 (3.13.4)",
   "language": "python",
   "name": "python3"
  },
  "language_info": {
   "codemirror_mode": {
    "name": "ipython",
    "version": 3
   },
   "file_extension": ".py",
   "mimetype": "text/x-python",
   "name": "python",
   "nbconvert_exporter": "python",
   "pygments_lexer": "ipython3",
   "version": "3.13.4"
  }
 },
 "nbformat": 4,
 "nbformat_minor": 5
}
